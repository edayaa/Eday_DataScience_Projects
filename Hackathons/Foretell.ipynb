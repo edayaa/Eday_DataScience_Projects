{
 "cells": [
  {
   "cell_type": "code",
   "execution_count": 1,
   "metadata": {},
   "outputs": [],
   "source": [
    "import os\n",
    "import warnings \n",
    "warnings.filterwarnings('ignore')\n",
    "import pandas as pd\n",
    "import numpy as np\n",
    "import datetime as dt \n",
    "import pandas_profiling\n",
    "from sklearn import linear_model\n",
    "from sklearn.model_selection import train_test_split\n",
    "from sklearn.linear_model import LinearRegression\n",
    "from sklearn.metrics import mean_squared_error\n",
    "from sklearn import preprocessing\n",
    "from sklearn.preprocessing import StandardScaler\n",
    "import matplotlib.pyplot as plt \n",
    "from sklearn.linear_model import Ridge\n",
    "from sklearn.linear_model import Lasso\n",
    "from sklearn.linear_model import ElasticNet"
   ]
  },
  {
   "cell_type": "code",
   "execution_count": 31,
   "metadata": {},
   "outputs": [
    {
     "name": "stdout",
     "output_type": "stream",
     "text": [
      "C:\\Users\\IQBALE\\ClassRoom\\Hackathons\n"
     ]
    }
   ],
   "source": [
    "pwd = os.getcwd()\n",
    "print(pwd)\n",
    "\n",
    "data_Train = pd.read_csv('C:\\\\Users\\\\IQBALE\\\\ClassRoom\\\\Hackathons\\\\ChartbustersParticipantsData\\\\Data_Train.csv')\n",
    "data_Test = pd.read_csv('C:\\\\Users\\\\IQBALE\\\\ClassRoom\\\\Hackathons\\\\ChartbustersParticipantsData\\\\Data_Test.csv')"
   ]
  },
  {
   "cell_type": "code",
   "execution_count": 32,
   "metadata": {},
   "outputs": [
    {
     "data": {
      "text/plain": [
       "19615"
      ]
     },
     "execution_count": 32,
     "metadata": {},
     "output_type": "execute_result"
    }
   ],
   "source": [
    "data_Test.shape\n",
    "data_Train.shape\n",
    "data_Train.describe()\n",
    "data= pd.concat([data_Train,data_Test],axis=0)\n",
    "data.shape\n",
    "data.isna().sum() \n",
    "data.duplicated().sum() # 0 \n",
    "data[pd.isnull(data[\"Song_Name\"])]\n",
    "data.shape\n",
    "data = data[data.isna()['Song_Name'] == False]\n",
    "data.isna().sum()\n",
    "data[\"Date\"] = pd.to_datetime(data[\"Timestamp\"])\n",
    "data[\"Year\"] = data[\"Date\"].dt.year\n",
    "data[\"Year\"] = 2000 - data[\"Year\"]\n",
    "data[\"Year\"].unique()\n",
    "data[\"Comments\"].unique() # number values \n",
    "data[\"Country\"].unique()\n",
    "data[\"Followers\"].unique()\n",
    "data[\"Genre\"].unique()\n",
    "data[\"Likes\"].unique()\n",
    "data[\"Views\"].isna().sum()"
   ]
  },
  {
   "cell_type": "code",
   "execution_count": 33,
   "metadata": {},
   "outputs": [
    {
     "data": {
      "text/plain": [
       "Comments          0\n",
       "Country           0\n",
       "Followers         0\n",
       "Genre             0\n",
       "Likes             0\n",
       "Name              0\n",
       "Popularity        0\n",
       "Song_Name         0\n",
       "Timestamp         0\n",
       "Unique_ID         0\n",
       "Views         19615\n",
       "Date              0\n",
       "Year              0\n",
       "dtype: int64"
      ]
     },
     "execution_count": 33,
     "metadata": {},
     "output_type": "execute_result"
    }
   ],
   "source": [
    "data.isna().sum()"
   ]
  },
  {
   "cell_type": "code",
   "execution_count": 34,
   "metadata": {},
   "outputs": [
    {
     "data": {
      "text/html": [
       "<div>\n",
       "<style scoped>\n",
       "    .dataframe tbody tr th:only-of-type {\n",
       "        vertical-align: middle;\n",
       "    }\n",
       "\n",
       "    .dataframe tbody tr th {\n",
       "        vertical-align: top;\n",
       "    }\n",
       "\n",
       "    .dataframe thead th {\n",
       "        text-align: right;\n",
       "    }\n",
       "</style>\n",
       "<table border=\"1\" class=\"dataframe\">\n",
       "  <thead>\n",
       "    <tr style=\"text-align: right;\">\n",
       "      <th></th>\n",
       "      <th>Comments</th>\n",
       "      <th>Country</th>\n",
       "      <th>Followers</th>\n",
       "      <th>Genre</th>\n",
       "      <th>Likes</th>\n",
       "      <th>Name</th>\n",
       "      <th>Popularity</th>\n",
       "      <th>Song_Name</th>\n",
       "      <th>Timestamp</th>\n",
       "      <th>Unique_ID</th>\n",
       "      <th>Views</th>\n",
       "      <th>Date</th>\n",
       "      <th>Year</th>\n",
       "    </tr>\n",
       "  </thead>\n",
       "  <tbody>\n",
       "    <tr>\n",
       "      <td>0</td>\n",
       "      <td>4</td>\n",
       "      <td>AU</td>\n",
       "      <td>119563</td>\n",
       "      <td>danceedm</td>\n",
       "      <td>499</td>\n",
       "      <td>Hardstyle</td>\n",
       "      <td>97</td>\n",
       "      <td>N-Vitral presents BOMBSQUAD - Poison Spitter (...</td>\n",
       "      <td>2018-03-30 15:24:45.000000</td>\n",
       "      <td>413890</td>\n",
       "      <td>14017.0</td>\n",
       "      <td>2018-03-30 15:24:45</td>\n",
       "      <td>-18</td>\n",
       "    </tr>\n",
       "    <tr>\n",
       "      <td>1</td>\n",
       "      <td>17</td>\n",
       "      <td>AU</td>\n",
       "      <td>2141</td>\n",
       "      <td>danceedm</td>\n",
       "      <td>49</td>\n",
       "      <td>Dj Aladdin</td>\n",
       "      <td>17</td>\n",
       "      <td>Dj Aladdin - Old School Hip Hop Quick Mix</td>\n",
       "      <td>2016-06-20 05:58:52.000000</td>\n",
       "      <td>249453</td>\n",
       "      <td>1918.0</td>\n",
       "      <td>2016-06-20 05:58:52</td>\n",
       "      <td>-16</td>\n",
       "    </tr>\n",
       "    <tr>\n",
       "      <td>2</td>\n",
       "      <td>11</td>\n",
       "      <td>AU</td>\n",
       "      <td>22248</td>\n",
       "      <td>danceedm</td>\n",
       "      <td>312</td>\n",
       "      <td>Maxximize On Air</td>\n",
       "      <td>91</td>\n",
       "      <td>Maxximize On Air - Mixed by Blasterjaxx - Epis...</td>\n",
       "      <td>2015-05-08 17:45:59.000000</td>\n",
       "      <td>681116</td>\n",
       "      <td>9668.0</td>\n",
       "      <td>2015-05-08 17:45:59</td>\n",
       "      <td>-15</td>\n",
       "    </tr>\n",
       "    <tr>\n",
       "      <td>3</td>\n",
       "      <td>2</td>\n",
       "      <td>AU</td>\n",
       "      <td>393655</td>\n",
       "      <td>rbsoul</td>\n",
       "      <td>2,400</td>\n",
       "      <td>GR6 EXPLODE</td>\n",
       "      <td>76</td>\n",
       "      <td>MC Yago - Tenho Compromisso (DJ R7)</td>\n",
       "      <td>2017-06-08 23:50:03.000000</td>\n",
       "      <td>387253</td>\n",
       "      <td>113036.0</td>\n",
       "      <td>2017-06-08 23:50:03</td>\n",
       "      <td>-17</td>\n",
       "    </tr>\n",
       "    <tr>\n",
       "      <td>4</td>\n",
       "      <td>81</td>\n",
       "      <td>AU</td>\n",
       "      <td>201030</td>\n",
       "      <td>danceedm</td>\n",
       "      <td>3,031</td>\n",
       "      <td>Tritonal</td>\n",
       "      <td>699</td>\n",
       "      <td>Escape (feat. Steph Jones)</td>\n",
       "      <td>2016-09-17 20:50:19.000000</td>\n",
       "      <td>1428029</td>\n",
       "      <td>110024.0</td>\n",
       "      <td>2016-09-17 20:50:19</td>\n",
       "      <td>-16</td>\n",
       "    </tr>\n",
       "  </tbody>\n",
       "</table>\n",
       "</div>"
      ],
      "text/plain": [
       "   Comments Country  Followers     Genre  Likes              Name Popularity  \\\n",
       "0         4      AU     119563  danceedm    499         Hardstyle         97   \n",
       "1        17      AU       2141  danceedm     49        Dj Aladdin         17   \n",
       "2        11      AU      22248  danceedm    312  Maxximize On Air         91   \n",
       "3         2      AU     393655    rbsoul  2,400       GR6 EXPLODE         76   \n",
       "4        81      AU     201030  danceedm  3,031          Tritonal        699   \n",
       "\n",
       "                                           Song_Name  \\\n",
       "0  N-Vitral presents BOMBSQUAD - Poison Spitter (...   \n",
       "1          Dj Aladdin - Old School Hip Hop Quick Mix   \n",
       "2  Maxximize On Air - Mixed by Blasterjaxx - Epis...   \n",
       "3                MC Yago - Tenho Compromisso (DJ R7)   \n",
       "4                         Escape (feat. Steph Jones)   \n",
       "\n",
       "                    Timestamp  Unique_ID     Views                Date  Year  \n",
       "0  2018-03-30 15:24:45.000000     413890   14017.0 2018-03-30 15:24:45   -18  \n",
       "1  2016-06-20 05:58:52.000000     249453    1918.0 2016-06-20 05:58:52   -16  \n",
       "2  2015-05-08 17:45:59.000000     681116    9668.0 2015-05-08 17:45:59   -15  \n",
       "3  2017-06-08 23:50:03.000000     387253  113036.0 2017-06-08 23:50:03   -17  \n",
       "4  2016-09-17 20:50:19.000000    1428029  110024.0 2016-09-17 20:50:19   -16  "
      ]
     },
     "execution_count": 34,
     "metadata": {},
     "output_type": "execute_result"
    }
   ],
   "source": [
    "data.head()"
   ]
  },
  {
   "cell_type": "code",
   "execution_count": 35,
   "metadata": {},
   "outputs": [],
   "source": [
    "data_input = data[['Comments', 'Followers', 'Genre', 'Likes', \n",
    "       'Popularity', 'Views', 'Year']]\n",
    "data_input.dtypes\n",
    "data_input[\"Likes\"] = data_input.Likes.str.replace(',','')\n",
    "data_input[\"Popularity\"] = data_input.Popularity.str.replace(',','')\n",
    "\n",
    "\"\"\"if data_input[\"Likes\"][-1] == 'K':\n",
    "    data_input[\"Likes\"] = float(data_input[\"Likes\"][:-1]) * 1000\n",
    "else if data_input[\"Likes\"][-1] == 'M':\n",
    "    data_input[\"Likes\"] = float(data_input[\"Likes\"][:-1]) * 1000000\n",
    "else:\n",
    "    data_input[\"Likes\"] = float(data_input[\"Likes\"])\"\"\"\n",
    "\n",
    "def convert_num(x):\n",
    "    if x[-1] == 'K':\n",
    "        return float(x[:-1]) * 1000\n",
    "    elif x[-1] == 'M':\n",
    "        return float(x[:-1]) * 1000000\n",
    "    else: \n",
    "        return float(x)\n",
    "\n",
    "data_input[\"Likes\"] = data_input[\"Likes\"].apply(convert_num)\n",
    "data_input[\"Popularity\"] = data_input[\"Popularity\"].apply(convert_num)\n",
    "\n",
    "le = preprocessing.LabelEncoder()\n",
    "data_input[\"Genre\"] = le.fit_transform(data_input[\"Genre\"])\n",
    "\n",
    "Train_input = data_input[data_input.isna()['Views'] == False] \n",
    "Test_input = data_input[data_input.isna()['Views'] == True]\n",
    "\n",
    "#     print(df[i])"
   ]
  },
  {
   "cell_type": "code",
   "execution_count": 23,
   "metadata": {},
   "outputs": [
    {
     "data": {
      "text/plain": [
       "(78457, 7)"
      ]
     },
     "execution_count": 23,
     "metadata": {},
     "output_type": "execute_result"
    }
   ],
   "source": [
    "Train_input.shape"
   ]
  },
  {
   "cell_type": "code",
   "execution_count": 24,
   "metadata": {},
   "outputs": [
    {
     "data": {
      "text/plain": [
       "(19615, 7)"
      ]
     },
     "execution_count": 24,
     "metadata": {},
     "output_type": "execute_result"
    }
   ],
   "source": [
    "Test_input.shape"
   ]
  },
  {
   "cell_type": "code",
   "execution_count": 25,
   "metadata": {},
   "outputs": [
    {
     "data": {
      "text/html": [
       "<div>\n",
       "<style scoped>\n",
       "    .dataframe tbody tr th:only-of-type {\n",
       "        vertical-align: middle;\n",
       "    }\n",
       "\n",
       "    .dataframe tbody tr th {\n",
       "        vertical-align: top;\n",
       "    }\n",
       "\n",
       "    .dataframe thead th {\n",
       "        text-align: right;\n",
       "    }\n",
       "</style>\n",
       "<table border=\"1\" class=\"dataframe\">\n",
       "  <thead>\n",
       "    <tr style=\"text-align: right;\">\n",
       "      <th></th>\n",
       "      <th>Comments</th>\n",
       "      <th>Followers</th>\n",
       "      <th>Genre</th>\n",
       "      <th>Likes</th>\n",
       "      <th>Popularity</th>\n",
       "      <th>Views</th>\n",
       "      <th>Year</th>\n",
       "    </tr>\n",
       "  </thead>\n",
       "  <tbody>\n",
       "    <tr>\n",
       "      <td>0</td>\n",
       "      <td>26</td>\n",
       "      <td>2568</td>\n",
       "      <td>0</td>\n",
       "      <td>5428.0</td>\n",
       "      <td>118.0</td>\n",
       "      <td>NaN</td>\n",
       "      <td>-19</td>\n",
       "    </tr>\n",
       "    <tr>\n",
       "      <td>1</td>\n",
       "      <td>18</td>\n",
       "      <td>155645</td>\n",
       "      <td>5</td>\n",
       "      <td>738.0</td>\n",
       "      <td>195.0</td>\n",
       "      <td>NaN</td>\n",
       "      <td>-15</td>\n",
       "    </tr>\n",
       "    <tr>\n",
       "      <td>2</td>\n",
       "      <td>18</td>\n",
       "      <td>29446</td>\n",
       "      <td>5</td>\n",
       "      <td>386.0</td>\n",
       "      <td>96.0</td>\n",
       "      <td>NaN</td>\n",
       "      <td>-13</td>\n",
       "    </tr>\n",
       "    <tr>\n",
       "      <td>3</td>\n",
       "      <td>1</td>\n",
       "      <td>799410</td>\n",
       "      <td>0</td>\n",
       "      <td>388.0</td>\n",
       "      <td>19.0</td>\n",
       "      <td>NaN</td>\n",
       "      <td>-7</td>\n",
       "    </tr>\n",
       "    <tr>\n",
       "      <td>4</td>\n",
       "      <td>0</td>\n",
       "      <td>2</td>\n",
       "      <td>19</td>\n",
       "      <td>79.0</td>\n",
       "      <td>1.0</td>\n",
       "      <td>NaN</td>\n",
       "      <td>-18</td>\n",
       "    </tr>\n",
       "  </tbody>\n",
       "</table>\n",
       "</div>"
      ],
      "text/plain": [
       "   Comments  Followers  Genre   Likes  Popularity  Views  Year\n",
       "0        26       2568      0  5428.0       118.0    NaN   -19\n",
       "1        18     155645      5   738.0       195.0    NaN   -15\n",
       "2        18      29446      5   386.0        96.0    NaN   -13\n",
       "3         1     799410      0   388.0        19.0    NaN    -7\n",
       "4         0          2     19    79.0         1.0    NaN   -18"
      ]
     },
     "execution_count": 25,
     "metadata": {},
     "output_type": "execute_result"
    }
   ],
   "source": [
    "Test_input.head()"
   ]
  },
  {
   "cell_type": "code",
   "execution_count": 37,
   "metadata": {},
   "outputs": [],
   "source": [
    "X_Train = Train_input.drop(columns=['Views'])\n",
    "Y_Train = Train_input[['Views']]\n",
    "X_Test  = Test_input.drop(columns=['Views'])\n",
    "\n",
    "scaler = StandardScaler()\n",
    "X_Train = scaler.fit_transform(X_Train)\n",
    "X_Test  = scaler.fit(X_Test)\n"
   ]
  },
  {
   "cell_type": "code",
   "execution_count": 39,
   "metadata": {},
   "outputs": [
    {
     "data": {
      "text/plain": [
       "array([[-0.15355164, -0.30750591, -0.62976993, -0.1577008 , -0.17126216,\n",
       "        -0.74654659],\n",
       "       [-0.13561104, -0.40802812, -0.62976993, -0.16622767, -0.18789289,\n",
       "        -0.02456096],\n",
       "       [-0.14389132, -0.39081499, -0.62976993, -0.16124419, -0.17250947,\n",
       "         0.33643185],\n",
       "       [-0.15631174, -0.07286222,  1.38522503, -0.12167953, -0.17562773,\n",
       "        -0.38555378],\n",
       "       [-0.04728806, -0.23776394, -0.62976993, -0.10972297, -0.04611596,\n",
       "        -0.02456096]])"
      ]
     },
     "execution_count": 39,
     "metadata": {},
     "output_type": "execute_result"
    }
   ],
   "source": [
    "X_Train[:5]"
   ]
  },
  {
   "cell_type": "code",
   "execution_count": 20,
   "metadata": {},
   "outputs": [
    {
     "data": {
      "text/plain": [
       "array([ 5, 17,  0, 20, 14, 10,  6, 12,  3,  2, 16, 19, 18,  4,  7,  1,  9,\n",
       "        8, 15, 11, 13], dtype=int64)"
      ]
     },
     "execution_count": 20,
     "metadata": {},
     "output_type": "execute_result"
    }
   ],
   "source": [
    "data_input[\"Genre\"].unique()"
   ]
  },
  {
   "cell_type": "code",
   "execution_count": 17,
   "metadata": {},
   "outputs": [
    {
     "data": {
      "text/html": [
       "<div>\n",
       "<style scoped>\n",
       "    .dataframe tbody tr th:only-of-type {\n",
       "        vertical-align: middle;\n",
       "    }\n",
       "\n",
       "    .dataframe tbody tr th {\n",
       "        vertical-align: top;\n",
       "    }\n",
       "\n",
       "    .dataframe thead th {\n",
       "        text-align: right;\n",
       "    }\n",
       "</style>\n",
       "<table border=\"1\" class=\"dataframe\">\n",
       "  <thead>\n",
       "    <tr style=\"text-align: right;\">\n",
       "      <th></th>\n",
       "      <th>Views</th>\n",
       "    </tr>\n",
       "  </thead>\n",
       "  <tbody>\n",
       "    <tr>\n",
       "      <td>22235</td>\n",
       "      <td>2438.0</td>\n",
       "    </tr>\n",
       "    <tr>\n",
       "      <td>63524</td>\n",
       "      <td>926.0</td>\n",
       "    </tr>\n",
       "    <tr>\n",
       "      <td>11152</td>\n",
       "      <td>668780.0</td>\n",
       "    </tr>\n",
       "    <tr>\n",
       "      <td>28569</td>\n",
       "      <td>418.0</td>\n",
       "    </tr>\n",
       "    <tr>\n",
       "      <td>41403</td>\n",
       "      <td>448.0</td>\n",
       "    </tr>\n",
       "  </tbody>\n",
       "</table>\n",
       "</div>"
      ],
      "text/plain": [
       "          Views\n",
       "22235    2438.0\n",
       "63524     926.0\n",
       "11152  668780.0\n",
       "28569     418.0\n",
       "41403     448.0"
      ]
     },
     "execution_count": 17,
     "metadata": {},
     "output_type": "execute_result"
    }
   ],
   "source": [
    "Y_train_train.head()"
   ]
  },
  {
   "cell_type": "code",
   "execution_count": 44,
   "metadata": {},
   "outputs": [],
   "source": [
    "X_train_train, X_train_test, Y_train_train, Y_train_test = train_test_split(X_Train,Y_Train,test_size=0.3,random_state= 8)"
   ]
  },
  {
   "cell_type": "code",
   "execution_count": 49,
   "metadata": {},
   "outputs": [],
   "source": [
    "def model_fit(model,X_train_train,X_train_test,Y_train_train,Y_train_test,X_test):   \n",
    "    model.fit(X_train_train,Y_train_train)\n",
    "    #pd.DataFrame(model.coef_,X_train_train.columns).plot(kind=\"bar\")\n",
    "    train_predict = model.predict(X_train_train)\n",
    "    test_predict = model.predict(X_train_test)\n",
    "    print(\"Model:\" , model)\n",
    "    print(\"Train RMSE : \",np.sqrt(mean_squared_error(train_predict,Y_train_train)))\n",
    "    print(\"Test RMSE : \",np.sqrt(mean_squared_error(test_predict,Y_train_test)))\n",
    "    print ( 'number of features used: ' ,  np.sum(model.coef_!=0) )    \n",
    "    test_hack_predict = model.predict(test_X.drop(columns=[\"Item_Identifier\",\"Outlet_Identifier\"]))\n",
    "    test_pred_df = pd.DataFrame(test_predict,columns= [\"Item_Outlet_Sales\"])\n",
    "    result = pd.concat([test_X[[\"Item_Identifier\", \"Outlet_Identifier\"]],test_pred_df] ,axis = 1)\n",
    "    result.to_csv(filename,index = False)"
   ]
  },
  {
   "cell_type": "code",
   "execution_count": 48,
   "metadata": {},
   "outputs": [
    {
     "data": {
      "text/plain": [
       "array([[-0.15769178, -0.28995806,  1.38522503, -0.16461704, -0.18851654,\n",
       "        -1.1075394 ],\n",
       "       [-0.14389132, -0.34967966,  1.72105752, -0.14303459, -0.19142692,\n",
       "         1.78040309],\n",
       "       [-0.04866811,  0.06871484, -0.62976993, -0.13058537, -0.02886158,\n",
       "        -0.02456096],\n",
       "       [-0.15907183, -0.40937644,  0.88147629, -0.16708035, -0.19142692,\n",
       "        -0.38555378],\n",
       "       [-0.15769178, -0.40460895, -1.46935116, -0.12973268, -0.16544141,\n",
       "        -0.38555378]])"
      ]
     },
     "execution_count": 48,
     "metadata": {},
     "output_type": "execute_result"
    }
   ],
   "source": [
    "X_train_test[:5]"
   ]
  },
  {
   "cell_type": "code",
   "execution_count": 50,
   "metadata": {},
   "outputs": [
    {
     "name": "stdout",
     "output_type": "stream",
     "text": [
      "Model: LinearRegression(copy_X=True, fit_intercept=True, n_jobs=None, normalize=False)\n",
      "Train RMSE :  710344.1912112432\n",
      "Test RMSE :  767957.5616918649\n",
      "number of features used:  6\n"
     ]
    }
   ],
   "source": [
    "model = LinearRegression() \n",
    "model_fit(model,X_train_train,X_train_test,Y_train_train,Y_train_test,X_Test)"
   ]
  },
  {
   "cell_type": "code",
   "execution_count": 54,
   "metadata": {},
   "outputs": [
    {
     "name": "stdout",
     "output_type": "stream",
     "text": [
      "Model: Lasso(alpha=0.5, copy_X=True, fit_intercept=True, max_iter=1000,\n",
      "      normalize=False, positive=False, precompute=False, random_state=None,\n",
      "      selection='cyclic', tol=0.0001, warm_start=False)\n",
      "Train RMSE :  710344.1912142438\n",
      "Test RMSE :  767957.4554779326\n",
      "number of features used:  6\n"
     ]
    }
   ],
   "source": [
    "model = Lasso(alpha=0.5)\n",
    "model_fit(model,X_train_train,X_train_test,Y_train_train,Y_train_test,X_Test)"
   ]
  }
 ],
 "metadata": {
  "kernelspec": {
   "display_name": "Python 3",
   "language": "python",
   "name": "python3"
  },
  "language_info": {
   "codemirror_mode": {
    "name": "ipython",
    "version": 3
   },
   "file_extension": ".py",
   "mimetype": "text/x-python",
   "name": "python",
   "nbconvert_exporter": "python",
   "pygments_lexer": "ipython3",
   "version": "3.7.4"
  }
 },
 "nbformat": 4,
 "nbformat_minor": 2
}
